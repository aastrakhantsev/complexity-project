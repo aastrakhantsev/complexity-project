{
 "cells": [
  {
   "cell_type": "markdown",
   "source": [
    "# Реализация алгоритма Вигдерзона"
   ],
   "metadata": {
    "collapsed": false
   }
  },
  {
   "cell_type": "markdown",
   "source": [
    "Напомним, что алгоритм работает так:\n",
    "1) Пока есть вершины с $deg(v) \\geq \\sqrt{n}$ тратим на нее и всех ее соседей 3 цвета и удаляем их.\n",
    "2) Оставшиеся вершины красим в $deg(G')+ 1$ цвет."
   ],
   "metadata": {
    "collapsed": false
   }
  },
  {
   "cell_type": "markdown",
   "source": [
    "Для работы с графами будем использовать библиотеку NetworkX."
   ],
   "metadata": {
    "collapsed": false
   }
  },
  {
   "cell_type": "code",
   "execution_count": 196,
   "metadata": {
    "collapsed": true,
    "ExecuteTime": {
     "end_time": "2023-05-27T20:55:27.930769402Z",
     "start_time": "2023-05-27T20:55:26.677954368Z"
    }
   },
   "outputs": [],
   "source": [
    "import networkx as nx\n",
    "import numpy as np\n",
    "import seaborn as sns\n",
    "import matplotlib.pyplot as plt\n",
    "from math import sqrt\n",
    "from random import randint"
   ]
  },
  {
   "cell_type": "markdown",
   "source": [
    "## Сам алгоритм"
   ],
   "metadata": {
    "collapsed": false
   }
  },
  {
   "cell_type": "code",
   "execution_count": 237,
   "outputs": [],
   "source": [
    "def color_graph(G: nx.Graph) -> (list, int):\n",
    "    '''\n",
    "    Colors a 3-colorable graph with O(sqrt(n)) colors. Returns coloring and number of colors used\n",
    "    '''\n",
    "    n = len(G.nodes)\n",
    "    colors = [None] * n\n",
    "    next_free_color = 1\n",
    "    # Step 1\n",
    "    while True:\n",
    "        v = -1\n",
    "        for i in range(n):\n",
    "            if colors[i] is None and G.degree[i] >= round(sqrt(n)):\n",
    "                v = i\n",
    "                break\n",
    "        if v == -1:\n",
    "            break\n",
    "\n",
    "        colors[v] = next_free_color\n",
    "        a = next_free_color + 1\n",
    "        b = next_free_color + 2\n",
    "        next_free_color += 3\n",
    "        for i in [x for x in G.neighbors(v)]:\n",
    "            current_neighbours = [x for x in G.neighbors(i)]\n",
    "            occupied_colors = []\n",
    "            for t in current_neighbours:\n",
    "                occupied_colors.append(colors[t])\n",
    "\n",
    "            # Only 2 colours are used here\n",
    "            if a in occupied_colors:\n",
    "                colors[i] = b\n",
    "            else:\n",
    "                assert a not in occupied_colors\n",
    "                colors[i] = a\n",
    "\n",
    "    # Step 2\n",
    "    uncolored = []\n",
    "    start_color = next_free_color\n",
    "    for i in range(n):\n",
    "        if colors[i] is None:\n",
    "            uncolored.append(i)\n",
    "    for i in uncolored:\n",
    "        current_neighbours = [x for x in G.neighbors(i)]\n",
    "        occupied_colors = []\n",
    "        for t in current_neighbours:\n",
    "            occupied_colors.append(colors[t])\n",
    "        for color in range(start_color, n + 1):\n",
    "            if color not in occupied_colors:\n",
    "                colors[i] = color\n",
    "                break\n",
    "\n",
    "    return colors, max(colors)\n"
   ],
   "metadata": {
    "collapsed": false,
    "ExecuteTime": {
     "end_time": "2023-05-27T21:31:06.878460105Z",
     "start_time": "2023-05-27T21:31:06.814427780Z"
    }
   }
  },
  {
   "cell_type": "markdown",
   "source": [
    "## Генерация 3-раскрашиваемого графа\n",
    "\n",
    "Будем случайным образом выбирать еще не проведенное ребро, если оно не образует 4-клики (а значит не нарушает 3-раскрашиваемость), то добавляем его в граф."
   ],
   "metadata": {
    "collapsed": false
   }
  },
  {
   "cell_type": "code",
   "execution_count": 238,
   "outputs": [],
   "source": [
    "def generate(n: int, m: int, part: int, edges = False):\n",
    "    '''\n",
    "    Tries to generate a graph with n vertices and m edges, at most part of vertices have\n",
    "    degree less than sqrt(n). If generation fails, returns None.\n",
    "    '''\n",
    "    free_edges = []\n",
    "    deg = [0] * n\n",
    "    for i in range(n):\n",
    "        for j in range(i + 1, n):\n",
    "            free_edges.append([i, j])\n",
    "\n",
    "    G = nx.Graph()\n",
    "    G.add_nodes_from(np.arange(n))\n",
    "    while m > 0:\n",
    "        a = -1\n",
    "        b = -1\n",
    "        found = False\n",
    "        for _ in range(n):\n",
    "            if len(free_edges) == 0:\n",
    "                return None\n",
    "            x = randint(0, len(free_edges) - 1)\n",
    "            a = free_edges[x][0]\n",
    "            b = free_edges[x][1]\n",
    "            if not edges:\n",
    "                if part <= 1 and (deg[a] + 1 > round(sqrt(n)) and deg[b] + 1 > round(sqrt(n))):\n",
    "                    free_edges.remove([a, b])\n",
    "                    continue\n",
    "                if part <= 0 and (deg[a] + 1 > round(sqrt(n)) or deg[b] + 1 > round(sqrt(n))):\n",
    "                    free_edges.remove([a, b])\n",
    "                    continue\n",
    "            assert not G.has_edge(a, b)\n",
    "\n",
    "            flag = True\n",
    "            for i in range(n):\n",
    "                if not flag:\n",
    "                    break\n",
    "                if i == a or i == b:\n",
    "                    continue\n",
    "                for j in range(i + 1, n):\n",
    "                    if not flag:\n",
    "                        break\n",
    "                    if j == a or j == b:\n",
    "                        continue\n",
    "                    if not G.has_edge(i, j):\n",
    "                        continue\n",
    "\n",
    "                    if G.has_edge(a, i) and G.has_edge(a, j) and G.has_edge(b, i) and G.has_edge(b, j):\n",
    "                        flag = False\n",
    "                        break\n",
    "\n",
    "            if flag:\n",
    "                found = True\n",
    "                break\n",
    "\n",
    "        if not found:\n",
    "            return None\n",
    "\n",
    "        free_edges.remove([a, b])\n",
    "        G.add_edge(a, b)\n",
    "        deg[a] += 1\n",
    "        deg[b] += 1\n",
    "        if not edges:\n",
    "            if deg[a] > round(sqrt(n)):\n",
    "                part -= 1\n",
    "            if deg[b] > round(sqrt(n)):\n",
    "                part -= 1\n",
    "        m -= 1\n",
    "\n",
    "    return G\n",
    "\n",
    "def is_3colorable(G: nx.Graph) -> bool:\n",
    "    '''\n",
    "    If graph is 3-colorable returns True, otherwise returns False.\n",
    "    '''\n",
    "    n = len(G.nodes)\n",
    "    for i in range(n):\n",
    "        for j in range(i + 1, n):\n",
    "            for k in range(j + 1, n):\n",
    "                for l in range(k + 1, n):\n",
    "                    if G.has_edge(i, j) and G.has_edge(i, k) and G.has_edge(i, l) and G.has_edge(j, k) and G.has_edge(j, l) and G.has_edge(k, l):\n",
    "                        return False\n",
    "    return True\n",
    "\n",
    "def generate_3colorable_graph(n: int, edges = False) -> nx.Graph:\n",
    "    '''\n",
    "    Returns 3-colorable nx.Graph with n vertices.\n",
    "    If edges is True, graph has a lot of vertices\n",
    "    '''\n",
    "    part = randint(2 * round(sqrt(n)), n)\n",
    "    if edges:\n",
    "        part = n\n",
    "    m = randint(0, part * n + (n - part) * round(sqrt(n)))\n",
    "    while True:\n",
    "        G = generate(n, m, part, edges)\n",
    "        if G is None:\n",
    "            m = m * 3 // 4\n",
    "        else:\n",
    "            assert is_3colorable(G)\n",
    "            return G\n"
   ],
   "metadata": {
    "collapsed": false,
    "ExecuteTime": {
     "end_time": "2023-05-27T21:31:07.902945963Z",
     "start_time": "2023-05-27T21:31:07.873219367Z"
    }
   }
  },
  {
   "cell_type": "markdown",
   "source": [
    "Функция `generate_3colorable_graph` возврашает 3-раскрашиваемый граф размера $n$. Второй параметр определяет, сколько в графе будем ребер."
   ],
   "metadata": {
    "collapsed": false
   }
  },
  {
   "cell_type": "markdown",
   "source": [
    "## Анализ алгоритма"
   ],
   "metadata": {
    "collapsed": false
   }
  },
  {
   "cell_type": "markdown",
   "source": [
    "Для всех $n$ из отрезка $[10, 100]$ с шагом $3$ посчитаем число затраченных цветов. Для каждого $n$ запустим несколько раз генерацию и раскраску нового графа."
   ],
   "metadata": {
    "collapsed": false
   }
  },
  {
   "cell_type": "code",
   "execution_count": 243,
   "outputs": [
    {
     "name": "stdout",
     "output_type": "stream",
     "text": [
      "Counting colors for 10-vertex Graph...\n",
      "- Done. On average 8.7 colors are used.\n",
      "Counting colors for 13-vertex Graph...\n",
      "- Done. On average 7.9 colors are used.\n",
      "Counting colors for 16-vertex Graph...\n",
      "- Done. On average 12.0 colors are used.\n",
      "Counting colors for 19-vertex Graph...\n",
      "- Done. On average 12.6 colors are used.\n",
      "Counting colors for 22-vertex Graph...\n",
      "- Done. On average 13.3 colors are used.\n",
      "Counting colors for 25-vertex Graph...\n",
      "- Done. On average 15.9 colors are used.\n",
      "Counting colors for 28-vertex Graph...\n",
      "- Done. On average 16.4 colors are used.\n",
      "Counting colors for 31-vertex Graph...\n",
      "- Done. On average 17.2 colors are used.\n",
      "Counting colors for 34-vertex Graph...\n",
      "- Done. On average 17.8 colors are used.\n",
      "Counting colors for 37-vertex Graph...\n",
      "- Done. On average 20.8 colors are used.\n",
      "Counting colors for 40-vertex Graph...\n",
      "- Done. On average 21.0 colors are used.\n",
      "Counting colors for 43-vertex Graph...\n",
      "- Done. On average 20.6 colors are used.\n",
      "Counting colors for 46-vertex Graph...\n",
      "- Done. On average 23.4 colors are used.\n",
      "Counting colors for 49-vertex Graph...\n",
      "- Done. On average 22.0 colors are used.\n",
      "Counting colors for 52-vertex Graph...\n",
      "- Done. On average 25.3 colors are used.\n",
      "Counting colors for 55-vertex Graph...\n",
      "- Done. On average 27.3 colors are used.\n",
      "Counting colors for 58-vertex Graph...\n",
      "- Done. On average 28.0 colors are used.\n",
      "Counting colors for 61-vertex Graph...\n",
      "- Done. On average 27.9 colors are used.\n",
      "Counting colors for 64-vertex Graph...\n",
      "- Done. On average 27.1 colors are used.\n",
      "Counting colors for 67-vertex Graph...\n",
      "- Done. On average 31.2 colors are used.\n",
      "Counting colors for 70-vertex Graph...\n",
      "- Done. On average 32.7 colors are used.\n",
      "Counting colors for 73-vertex Graph...\n",
      "- Done. On average 31.7 colors are used.\n",
      "Counting colors for 76-vertex Graph...\n",
      "- Done. On average 31.9 colors are used.\n",
      "Counting colors for 79-vertex Graph...\n",
      "- Done. On average 33.2 colors are used.\n",
      "Counting colors for 82-vertex Graph...\n",
      "- Done. On average 32.9 colors are used.\n",
      "Counting colors for 85-vertex Graph...\n",
      "- Done. On average 38.4 colors are used.\n",
      "Counting colors for 88-vertex Graph...\n",
      "- Done. On average 37.7 colors are used.\n",
      "Counting colors for 91-vertex Graph...\n",
      "- Done. On average 36.7 colors are used.\n",
      "Counting colors for 94-vertex Graph...\n",
      "- Done. On average 36.1 colors are used.\n",
      "Counting colors for 97-vertex Graph...\n",
      "- Done. On average 39.6 colors are used.\n"
     ]
    }
   ],
   "source": [
    "n = np.arange(10, 100, 3)\n",
    "c = []\n",
    "\n",
    "for size in n:\n",
    "    print(f'Counting colors for {size}-vertex Graph...')\n",
    "    mean_colors = 0\n",
    "    for _ in range(15):\n",
    "        G = generate_3colorable_graph(size, False)\n",
    "        coloring, colors = color_graph(G)\n",
    "        mean_colors += colors\n",
    "    for _ in range(15):\n",
    "        G = generate_3colorable_graph(size, True)\n",
    "        coloring, colors = color_graph(G)\n",
    "        mean_colors += colors\n",
    "    mean_colors /= 30\n",
    "    print(f'- Done. On average {round(mean_colors, 1)} colors are used.')\n",
    "    c.append(mean_colors)"
   ],
   "metadata": {
    "collapsed": false,
    "ExecuteTime": {
     "end_time": "2023-05-27T22:18:08.071676101Z",
     "start_time": "2023-05-27T21:41:58.065218384Z"
    }
   }
  },
  {
   "cell_type": "markdown",
   "source": [
    "Теперь изобразим полученные данные."
   ],
   "metadata": {
    "collapsed": false
   }
  },
  {
   "cell_type": "code",
   "execution_count": 249,
   "outputs": [
    {
     "data": {
      "text/plain": "<Figure size 1000x1000 with 1 Axes>",
      "image/png": "[encoded data removed]"
     },
     "metadata": {},
     "output_type": "display_data"
    }
   ],
   "source": [
    "with sns.axes_style('darkgrid'):\n",
    "    plt.figure(figsize=(10, 10))\n",
    "    plt.plot(n, c, color='m', label='Число цветов')\n",
    "    plt.plot(n, 4 * np.sqrt(n), color='r', linestyle='--', alpha=0.5, label='$4 \\cdot \\sqrt{n}$')\n",
    "    plt.title('Раскраска 3-раскрашиваемого графа')\n",
    "    plt.xlabel('Размер графа')\n",
    "    plt.ylabel('Число цветов')\n",
    "    plt.ylim((0, 50))\n",
    "    plt.legend()"
   ],
   "metadata": {
    "collapsed": false,
    "ExecuteTime": {
     "end_time": "2023-05-27T22:21:42.507659223Z",
     "start_time": "2023-05-27T22:21:42.101621690Z"
    }
   }
  },
  {
   "cell_type": "markdown",
   "source": [
    "Как мы видим по графику, теоретическая оценка числа затраченных цветов подтвердилась на практике."
   ],
   "metadata": {
    "collapsed": false
   }
  },
  {
   "cell_type": "markdown",
   "source": [
    "..."
   ],
   "metadata": {
    "collapsed": false
   }
  }
 ],
 "metadata": {
  "kernelspec": {
   "display_name": "Python 3",
   "language": "python",
   "name": "python3"
  },
  "language_info": {
   "codemirror_mode": {
    "name": "ipython",
    "version": 2
   },
   "file_extension": ".py",
   "mimetype": "text/x-python",
   "name": "python",
   "nbconvert_exporter": "python",
   "pygments_lexer": "ipython2",
   "version": "2.7.6"
  }
 },
 "nbformat": 4,
 "nbformat_minor": 0
}
